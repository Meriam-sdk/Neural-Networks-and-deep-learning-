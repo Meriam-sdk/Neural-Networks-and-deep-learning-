{
  "nbformat": 4,
  "nbformat_minor": 0,
  "metadata": {
    "colab": {
      "provenance": []
    },
    "kernelspec": {
      "name": "python3",
      "display_name": "Python 3"
    },
    "language_info": {
      "name": "python"
    },
    "accelerator": "GPU",
    "gpuClass": "standard"
  },
  "cells": [
    {
      "cell_type": "markdown",
      "source": [
        "# Importing necessary libraries"
      ],
      "metadata": {
        "id": "B2FoUTTMh7JK"
      }
    },
    {
      "cell_type": "code",
      "source": [
        "from torch.nn.modules import dropout\n",
        "import torch\n",
        "import torch.nn as nn\n",
        "import torch.optim as optim\n",
        "import torchvision\n",
        "import torchvision.transforms as transforms\n",
        "from torchvision import datasets, transforms\n",
        "import torch\n",
        "from torch import nn\n",
        "import numpy as np"
      ],
      "metadata": {
        "id": "JVIPen-TrHJH"
      },
      "execution_count": null,
      "outputs": []
    },
    {
      "cell_type": "markdown",
      "source": [
        "# Downloading Data"
      ],
      "metadata": {
        "id": "knZz3mjJq2ro"
      }
    },
    {
      "cell_type": "markdown",
      "source": [
        "\n"
      ],
      "metadata": {
        "id": "eC8BI8SbiGqc"
      }
    },
    {
      "cell_type": "code",
      "source": [
        "# Define the data transforms\n",
        "transform_train = transforms.Compose([\n",
        "    transforms.RandomCrop(32, padding=4),\n",
        "    transforms.RandomHorizontalFlip(),\n",
        "    transforms.ToTensor(),\n",
        "    transforms.Normalize((0.5, 0.5, 0.5), (0.5, 0.5, 0.5))\n",
        "])\n",
        "transform_test = transforms.Compose([\n",
        "    transforms.ToTensor(),\n",
        "    transforms.Normalize((0.5, 0.5, 0.5), (0.5, 0.5, 0.5))\n",
        "])\n",
        "\n",
        "# Load the data\n",
        "trainset = torchvision.datasets.CIFAR10(root='./data', train=True, download=True, transform=transform_train)\n",
        "trainloader = torch.utils.data.DataLoader(trainset, batch_size=128, shuffle=True, num_workers=2)\n",
        "testset = torchvision.datasets.CIFAR10(root='./data', train=False, download=True, transform=transform_test)\n",
        "testloader = torch.utils.data.DataLoader(testset, batch_size=128, shuffle=False, num_workers=2)\n"
      ],
      "metadata": {
        "colab": {
          "base_uri": "https://localhost:8080/"
        },
        "id": "4iL5b4OzrGXi",
        "outputId": "ae9522f2-7667-4cc5-b027-ef58c8b3c969"
      },
      "execution_count": null,
      "outputs": [
        {
          "output_type": "stream",
          "name": "stdout",
          "text": [
            "Downloading https://www.cs.toronto.edu/~kriz/cifar-10-python.tar.gz to ./data/cifar-10-python.tar.gz\n"
          ]
        },
        {
          "output_type": "stream",
          "name": "stderr",
          "text": [
            "100%|██████████| 170498071/170498071 [00:03<00:00, 46015995.88it/s]\n"
          ]
        },
        {
          "output_type": "stream",
          "name": "stdout",
          "text": [
            "Extracting ./data/cifar-10-python.tar.gz to ./data\n",
            "Files already downloaded and verified\n"
          ]
        }
      ]
    },
    {
      "cell_type": "markdown",
      "source": [
        "# Define model"
      ],
      "metadata": {
        "id": "Bjg6LTX7_sG8"
      }
    },
    {
      "cell_type": "markdown",
      "source": [],
      "metadata": {
        "id": "N8dCE-hMkH5a"
      }
    },
    {
      "cell_type": "code",
      "source": [
        "# Define the model\n",
        "class Block(nn.Module):\n",
        "    def __init__(self, in_channels, out_channels, num_convs):\n",
        "        super(Block, self).__init__()\n",
        "        self.conv1x1 = nn.Conv2d(in_channels, out_channels, kernel_size=1)\n",
        "        self.convs = nn.ModuleList([nn.Conv2d(in_channels, out_channels, kernel_size=3, padding=1) for i in range(num_convs)])\n",
        "        #self.bns = nn.ModuleList([nn.BatchNorm2d(out_channels) for i in range(num_convs)])\n",
        "        self.bn = nn.BatchNorm2d(out_channels)\n",
        "        self.dropout = nn.Dropout2d(p=0.2)\n",
        "        self.mlp = nn.Sequential(\n",
        "            nn.AdaptiveAvgPool2d((1,1)),\n",
        "            nn.Flatten(),\n",
        "            nn.Linear(in_channels, num_convs ),\n",
        "            nn.ReLU(inplace=True)\n",
        "        )\n",
        " \n",
        "    def forward(self, x):\n",
        "        a = self.mlp(x)\n",
        "        out = 0\n",
        "        for idx, conv in enumerate(self.convs):\n",
        "            y = conv(x)\n",
        "            y = self.bn(y)\n",
        "            y = nn.functional.relu(y)\n",
        "            #y = self.dropout(y)\n",
        "            out += a[:, idx].view(x.size(0), -1, 1, 1) * y\n",
        "        out += self.conv1x1(x)\n",
        "        out = nn.functional.relu(out)\n",
        "        return out\n",
        "\n",
        "class Classifier(nn.Module):\n",
        "    def __init__(self, num_blocks, num_filters, num_classes, num_convs):\n",
        "        super(Classifier, self).__init__()\n",
        "        self.blocks = nn.ModuleList([Block(3 if i == 0 else num_filters, num_filters, num_convs) for i in range(num_blocks)])\n",
        "        self.pool = nn.AdaptiveAvgPool2d((1,1))\n",
        "        self.fc = nn.Linear(num_filters, num_classes)\n",
        "        \n",
        "    def forward(self, x):\n",
        "        for block in self.blocks:\n",
        "            x = block(x)\n",
        "        x = self.pool(x)\n",
        "        x = x.view(x.size(0), -1)\n",
        "        x = self.fc(x)\n",
        "        return x"
      ],
      "metadata": {
        "id": "HlpnuYcNq1so"
      },
      "execution_count": null,
      "outputs": []
    },
    {
      "cell_type": "code",
      "source": [],
      "metadata": {
        "id": "QvQ77usPknkS"
      },
      "execution_count": null,
      "outputs": []
    },
    {
      "cell_type": "markdown",
      "source": [
        "# Define optimmiser and loss function \n"
      ],
      "metadata": {
        "id": "RjUBVEly_29Q"
      }
    },
    {
      "cell_type": "markdown",
      "source": [],
      "metadata": {
        "id": "5657PEBxkm0m"
      }
    },
    {
      "cell_type": "code",
      "source": [
        "# Define the model, optimizer, and loss function\n",
        "device = torch.device(\"cuda:0\" if torch.cuda.is_available() else \"cpu\")\n",
        "net = Classifier(num_blocks=3, num_filters=64, num_classes=10, num_convs=3).to(device)\n",
        "criterion = nn.CrossEntropyLoss()\n",
        "\n",
        "\n",
        "# Define the optimizer and learning rate scheduler\n",
        "optimizer = optim.SGD(net.parameters(), lr=0.01, momentum=0.9, weight_decay=5e-4)\n",
        "lr_scheduler = torch.optim.lr_scheduler.StepLR(optimizer, step_size=20, gamma=0.1)\n"
      ],
      "metadata": {
        "id": "xenzYZk5q1wf"
      },
      "execution_count": null,
      "outputs": []
    },
    {
      "cell_type": "markdown",
      "source": [
        "# Training "
      ],
      "metadata": {
        "id": "dbd9-cN7_7Hm"
      }
    },
    {
      "cell_type": "code",
      "source": [
        "import matplotlib.pyplot as plt\n",
        "\n",
        "# Train the network\n",
        "num_epochs = 40\n",
        "train_losses = []\n",
        "train_accs = []\n",
        "val_accs = []\n",
        "\n",
        "for epoch in range(num_epochs):\n",
        "    running_loss = 0.0\n",
        "    correct_train = 0\n",
        "    total_train = 0\n",
        "    for i, data in enumerate(trainloader, 0):\n",
        "        # Get the inputs; data is a list of [inputs, labels]\n",
        "        inputs, labels = data\n",
        "        inputs, labels = inputs.to(device), labels.to(device)\n",
        "\n",
        "        # Zero the parameter gradients\n",
        "        optimizer.zero_grad()\n",
        "\n",
        "        # Forward + backward + optimize\n",
        "        outputs = net(inputs)\n",
        "        loss = criterion(outputs, labels)\n",
        "        loss.backward()\n",
        "        optimizer.step()\n",
        "\n",
        "        # Print statistics\n",
        "        running_loss += loss.item()\n",
        "        _, predicted = torch.max(outputs.data, 1)\n",
        "        total_train += labels.size(0)\n",
        "        correct_train += (predicted == labels).sum().item()\n",
        "        #if i % 100 == 99:    # print every 100 mini-batches\n",
        "\n",
        "    # Decay Learning rate after epoch\n",
        "    lr_scheduler.step()\n",
        "    \n",
        "    train_loss = running_loss / len(trainloader)\n",
        "    train_acc = 100 * correct_train / total_train\n",
        "    train_losses.append(train_loss)\n",
        "    train_accs.append(train_acc)\n",
        "\n",
        "    print('Epoch [%d] trainng loss: %.3f, training accuracy: %d %%' %(epoch + 1, train_loss, train_acc))\n",
        "    running_loss = 0.0\n",
        "\n",
        "    # Test the network on the validation data\n",
        "    correct_val = 0\n",
        "    total_val = 0\n",
        "    with torch.no_grad():\n",
        "        for data in testloader:\n",
        "            images, labels = data\n",
        "            images, labels = images.to(device), labels.to(device)\n",
        "            outputs = net(images)\n",
        "            _, predicted = torch.max(outputs.data, 1)\n",
        "            total_val += labels.size(0)\n",
        "            correct_val += (predicted == labels).sum().item()\n",
        "\n",
        "    val_acc = 100 * correct_val / total_val\n",
        "    val_accs.append(val_acc)\n",
        "    print('Epoch [%d] validation accuracy: %d %%' % (epoch + 1, val_acc))\n",
        "\n",
        "print('Finished Training')\n",
        "\n",
        "# Plot training and validation metrics\n",
        "epochs = range(1, num_epochs+1)\n",
        "plt.plot(epochs, train_losses, 'bo', label='Training loss')\n",
        "plt.plot(epochs, train_accs, 'b', label='Training accuracy')\n",
        "plt.plot(epochs, val_accs, 'r', label='Validation accuracy')\n",
        "plt.title('Training and validation metrics')\n",
        "plt.xlabel('Epochs')\n",
        "plt.ylabel('Metrics')\n",
        "plt.legend()\n",
        "plt.show()\n"
      ],
      "metadata": {
        "id": "-OFUkLokq1yz",
        "colab": {
          "base_uri": "https://localhost:8080/",
          "height": 1000
        },
        "outputId": "8e3f0772-dfc5-4df3-e1d8-d2c23a1f8f44"
      },
      "execution_count": null,
      "outputs": [
        {
          "output_type": "stream",
          "name": "stdout",
          "text": [
            "Epoch [1] trainng loss: 1.750, training accuracy: 34 %\n",
            "Epoch [1] validation accuracy: 46 %\n",
            "Epoch [2] trainng loss: 1.365, training accuracy: 50 %\n",
            "Epoch [2] validation accuracy: 51 %\n",
            "Epoch [3] trainng loss: 1.217, training accuracy: 56 %\n",
            "Epoch [3] validation accuracy: 55 %\n",
            "Epoch [4] trainng loss: 1.128, training accuracy: 59 %\n",
            "Epoch [4] validation accuracy: 57 %\n",
            "Epoch [5] trainng loss: 1.051, training accuracy: 62 %\n",
            "Epoch [5] validation accuracy: 60 %\n",
            "Epoch [6] trainng loss: 0.994, training accuracy: 64 %\n",
            "Epoch [6] validation accuracy: 62 %\n",
            "Epoch [7] trainng loss: 0.949, training accuracy: 66 %\n",
            "Epoch [7] validation accuracy: 65 %\n",
            "Epoch [8] trainng loss: 0.907, training accuracy: 67 %\n",
            "Epoch [8] validation accuracy: 65 %\n",
            "Epoch [9] trainng loss: 0.870, training accuracy: 69 %\n",
            "Epoch [9] validation accuracy: 65 %\n",
            "Epoch [10] trainng loss: 0.836, training accuracy: 70 %\n",
            "Epoch [10] validation accuracy: 68 %\n",
            "Epoch [11] trainng loss: 0.813, training accuracy: 71 %\n",
            "Epoch [11] validation accuracy: 66 %\n",
            "Epoch [12] trainng loss: 0.793, training accuracy: 72 %\n",
            "Epoch [12] validation accuracy: 68 %\n",
            "Epoch [13] trainng loss: 0.768, training accuracy: 73 %\n",
            "Epoch [13] validation accuracy: 69 %\n",
            "Epoch [14] trainng loss: 0.746, training accuracy: 74 %\n",
            "Epoch [14] validation accuracy: 70 %\n",
            "Epoch [15] trainng loss: 0.730, training accuracy: 74 %\n",
            "Epoch [15] validation accuracy: 69 %\n",
            "Epoch [16] trainng loss: 0.733, training accuracy: 74 %\n",
            "Epoch [16] validation accuracy: 69 %\n",
            "Epoch [17] trainng loss: 0.703, training accuracy: 75 %\n",
            "Epoch [17] validation accuracy: 69 %\n",
            "Epoch [18] trainng loss: 0.698, training accuracy: 75 %\n",
            "Epoch [18] validation accuracy: 71 %\n",
            "Epoch [19] trainng loss: 0.681, training accuracy: 76 %\n",
            "Epoch [19] validation accuracy: 70 %\n",
            "Epoch [20] trainng loss: 0.674, training accuracy: 76 %\n",
            "Epoch [20] validation accuracy: 71 %\n",
            "Epoch [21] trainng loss: 0.549, training accuracy: 81 %\n",
            "Epoch [21] validation accuracy: 75 %\n",
            "Epoch [22] trainng loss: 0.525, training accuracy: 82 %\n",
            "Epoch [22] validation accuracy: 75 %\n",
            "Epoch [23] trainng loss: 0.513, training accuracy: 82 %\n",
            "Epoch [23] validation accuracy: 75 %\n",
            "Epoch [24] trainng loss: 0.505, training accuracy: 82 %\n",
            "Epoch [24] validation accuracy: 76 %\n",
            "Epoch [25] trainng loss: 0.502, training accuracy: 82 %\n",
            "Epoch [25] validation accuracy: 76 %\n",
            "Epoch [26] trainng loss: 0.498, training accuracy: 82 %\n",
            "Epoch [26] validation accuracy: 76 %\n",
            "Epoch [27] trainng loss: 0.488, training accuracy: 83 %\n",
            "Epoch [27] validation accuracy: 75 %\n",
            "Epoch [28] trainng loss: 0.484, training accuracy: 83 %\n",
            "Epoch [28] validation accuracy: 76 %\n",
            "Epoch [29] trainng loss: 0.481, training accuracy: 83 %\n",
            "Epoch [29] validation accuracy: 76 %\n",
            "Epoch [30] trainng loss: 0.478, training accuracy: 83 %\n",
            "Epoch [30] validation accuracy: 76 %\n",
            "Epoch [31] trainng loss: 0.478, training accuracy: 83 %\n",
            "Epoch [31] validation accuracy: 76 %\n",
            "Epoch [32] trainng loss: 0.475, training accuracy: 83 %\n",
            "Epoch [32] validation accuracy: 77 %\n",
            "Epoch [33] trainng loss: 0.470, training accuracy: 83 %\n",
            "Epoch [33] validation accuracy: 76 %\n",
            "Epoch [34] trainng loss: 0.467, training accuracy: 83 %\n",
            "Epoch [34] validation accuracy: 75 %\n",
            "Epoch [35] trainng loss: 0.467, training accuracy: 83 %\n",
            "Epoch [35] validation accuracy: 75 %\n",
            "Epoch [36] trainng loss: 0.464, training accuracy: 84 %\n",
            "Epoch [36] validation accuracy: 76 %\n",
            "Epoch [37] trainng loss: 0.464, training accuracy: 83 %\n",
            "Epoch [37] validation accuracy: 76 %\n",
            "Epoch [38] trainng loss: 0.456, training accuracy: 84 %\n",
            "Epoch [38] validation accuracy: 76 %\n",
            "Epoch [39] trainng loss: 0.451, training accuracy: 84 %\n",
            "Epoch [39] validation accuracy: 76 %\n",
            "Epoch [40] trainng loss: 0.451, training accuracy: 84 %\n",
            "Epoch [40] validation accuracy: 75 %\n",
            "Finished Training\n"
          ]
        },
        {
          "output_type": "display_data",
          "data": {
            "text/plain": [
              "<Figure size 640x480 with 1 Axes>"
            ],
            "image/png": "[encoded data removed]"
          },
          "metadata": {}
        }
      ]
    },
    {
      "cell_type": "markdown",
      "source": [
        "## Hyper parameters used "
      ],
      "metadata": {
        "id": "LfcNPHVvlnBK"
      }
    },
    {
      "cell_type": "markdown",
      "source": [
        "Hyperparameters used:\n",
        "\n",
        "\n",
        "Epochs: 40\n",
        "\n",
        "\n",
        "Batch size: 128\n",
        "\n",
        "\n",
        "Learning rate: 0.01\n",
        "\n",
        "\n",
        "Weight decay: 5e-4.\n",
        "\n",
        "\n",
        "Optimizer: SGD\n",
        "\n",
        "\n",
        "Loss: Cross entropy loss\n",
        "\n",
        "\n",
        "\n",
        "Number of blocks: 2\n"
      ],
      "metadata": {
        "id": "QSTSzNXGlukr"
      }
    }
  ]
}